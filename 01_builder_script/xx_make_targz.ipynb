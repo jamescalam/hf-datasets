{
 "cells": [
  {
   "cell_type": "markdown",
   "metadata": {},
   "source": [
    "# Creating a Compressed File for Demo\n",
    "\n",
    "This notebook shows how to create compressed tar.gz file that we can later use to test loading remote compressed files in HF dataset builder scripts."
   ]
  },
  {
   "cell_type": "code",
   "execution_count": 6,
   "metadata": {},
   "outputs": [
    {
     "name": "stderr",
     "output_type": "stream",
     "text": [
      "Using custom data configuration jamescalam--reddit-topics-36b2068b7cd7acf8\n",
      "Reusing dataset json (/Users/jamesbriggs/.cache/huggingface/datasets/jamescalam___json/jamescalam--reddit-topics-36b2068b7cd7acf8/0.0.0/ac0ca5f5289a6cf108e706efcf040422dbbfa8e658dee6a819f20d76bb84d26b)\n"
     ]
    },
    {
     "data": {
      "text/plain": [
       "Dataset({\n",
       "    features: ['sub', 'title', 'selftext', 'upvote_ratio', 'id', 'created_utc'],\n",
       "    num_rows: 3791\n",
       "})"
      ]
     },
     "execution_count": 6,
     "metadata": {},
     "output_type": "execute_result"
    }
   ],
   "source": [
    "from datasets import load_dataset\n",
    "\n",
    "dataset = load_dataset(\"jamescalam/reddit-topics\", split=\"train\")\n",
    "dataset"
   ]
  },
  {
   "cell_type": "code",
   "execution_count": 7,
   "metadata": {},
   "outputs": [
    {
     "data": {
      "text/html": [
       "<div>\n",
       "<style scoped>\n",
       "    .dataframe tbody tr th:only-of-type {\n",
       "        vertical-align: middle;\n",
       "    }\n",
       "\n",
       "    .dataframe tbody tr th {\n",
       "        vertical-align: top;\n",
       "    }\n",
       "\n",
       "    .dataframe thead th {\n",
       "        text-align: right;\n",
       "    }\n",
       "</style>\n",
       "<table border=\"1\" class=\"dataframe\">\n",
       "  <thead>\n",
       "    <tr style=\"text-align: right;\">\n",
       "      <th></th>\n",
       "      <th>sub</th>\n",
       "      <th>title</th>\n",
       "      <th>selftext</th>\n",
       "      <th>upvote_ratio</th>\n",
       "      <th>id</th>\n",
       "      <th>created_utc</th>\n",
       "    </tr>\n",
       "  </thead>\n",
       "  <tbody>\n",
       "    <tr>\n",
       "      <th>0</th>\n",
       "      <td>investing</td>\n",
       "      <td>Followup- Here are the results so far from my ...</td>\n",
       "      <td>Please don't put any weight on these!  Its jus...</td>\n",
       "      <td>1.00</td>\n",
       "      <td>t3_ue0sp0</td>\n",
       "      <td>1.651168e+09</td>\n",
       "    </tr>\n",
       "    <tr>\n",
       "      <th>1</th>\n",
       "      <td>investing</td>\n",
       "      <td>This 2 hr Mohnish Pabrai lecture is better tha...</td>\n",
       "      <td>Mohnish Pabrai is the Warren Buffett of India ...</td>\n",
       "      <td>0.50</td>\n",
       "      <td>t3_ue0q26</td>\n",
       "      <td>1.651168e+09</td>\n",
       "    </tr>\n",
       "    <tr>\n",
       "      <th>2</th>\n",
       "      <td>investing</td>\n",
       "      <td>Vital Energy $VUX has “more than doubled produ...</td>\n",
       "      <td>Share Price: 0.40\\n\\nMarket Cap: 32 Mln\\n\\nSha...</td>\n",
       "      <td>0.25</td>\n",
       "      <td>t3_udxph6</td>\n",
       "      <td>1.651160e+09</td>\n",
       "    </tr>\n",
       "    <tr>\n",
       "      <th>3</th>\n",
       "      <td>investing</td>\n",
       "      <td>Keep averaging down or wait?</td>\n",
       "      <td>So there's obviously a lot going on right now ...</td>\n",
       "      <td>0.60</td>\n",
       "      <td>t3_udx78k</td>\n",
       "      <td>1.651159e+09</td>\n",
       "    </tr>\n",
       "    <tr>\n",
       "      <th>4</th>\n",
       "      <td>investing</td>\n",
       "      <td>The future of credit card companies vs. AppleP...</td>\n",
       "      <td>I see everything moving into (onto) your smart...</td>\n",
       "      <td>0.38</td>\n",
       "      <td>t3_udww2l</td>\n",
       "      <td>1.651158e+09</td>\n",
       "    </tr>\n",
       "  </tbody>\n",
       "</table>\n",
       "</div>"
      ],
      "text/plain": [
       "         sub                                              title  \\\n",
       "0  investing  Followup- Here are the results so far from my ...   \n",
       "1  investing  This 2 hr Mohnish Pabrai lecture is better tha...   \n",
       "2  investing  Vital Energy $VUX has “more than doubled produ...   \n",
       "3  investing                       Keep averaging down or wait?   \n",
       "4  investing  The future of credit card companies vs. AppleP...   \n",
       "\n",
       "                                            selftext  upvote_ratio         id  \\\n",
       "0  Please don't put any weight on these!  Its jus...          1.00  t3_ue0sp0   \n",
       "1  Mohnish Pabrai is the Warren Buffett of India ...          0.50  t3_ue0q26   \n",
       "2  Share Price: 0.40\\n\\nMarket Cap: 32 Mln\\n\\nSha...          0.25  t3_udxph6   \n",
       "3  So there's obviously a lot going on right now ...          0.60  t3_udx78k   \n",
       "4  I see everything moving into (onto) your smart...          0.38  t3_udww2l   \n",
       "\n",
       "    created_utc  \n",
       "0  1.651168e+09  \n",
       "1  1.651168e+09  \n",
       "2  1.651160e+09  \n",
       "3  1.651159e+09  \n",
       "4  1.651158e+09  "
      ]
     },
     "execution_count": 7,
     "metadata": {},
     "output_type": "execute_result"
    }
   ],
   "source": [
    "dataset = dataset.to_pandas()\n",
    "dataset.head()"
   ]
  },
  {
   "cell_type": "code",
   "execution_count": 8,
   "metadata": {},
   "outputs": [
    {
     "data": {
      "text/plain": [
       "{'sub': 'investing',\n",
       " 'title': 'Vital Energy $VUX has “more than doubled production” but the market hasn’t noticed this yet – it was not yet in financials. Easy cashflow, more growth potential and a future stock multibagger using Q4 2021 numbers financials and 900 BOE/D production + higher oil prices of $100 WTI today',\n",
       " 'selftext': 'Share Price: 0.40\\n\\nMarket Cap: 32 Mln\\n\\nShares Outstanding: 81 Mln\\n\\nShares Diluted: 82.2 Mln\\n\\nManagement Ownership: &gt;50%\\n\\nQ4 is for October-December 2021. WTI oil prices have gone up a lot since so Q1 January-March have WTI market prices of somewhere $90 and at the moment we are seeing +$100. Let’s remember that viewing the Q4 financials in the MD&amp;A. **Q1 Financials will be out in a month, end of May**.\\n\\nVital Energy has been able to more than double its production due to 3 new wells as stated in the 5 October 2021 press release (enclosed down below). From 385 barrels in Q2 to 911 barrels daily in Q4. Furthermore, the company owns many more properties, as stated in the MD&amp;A, and has more potential sites for new wells. 4 of the 8 properties are in production, meaning there isn’t a dependency on one location/property. The cost structure is easy as after the Operational Netbacks the company has only limited expenses. Cashflow in Q4 was used to pay back a loan, note 11, of a total 3.8 Mln and make the balance sheet even cleaner.\\n\\nConsidering the high cash flow due to low costs and high oil prices, together with &gt;50% insider ownership, this is not a risk.\\n\\nAs can be seen below, the operational netback in Q4 was $70 dollars with a revenue of $84 per BOE. The average WTI was $77 in Q4. Let us remember that this is October – December and right now oil price is at $100 WTI.\\n\\n\\\\*Please check on Sedar MD&amp;A\\n\\n  \\n\\n**Balance Sheet and Income Statement**\\n\\n**\\\\*Please check on Sedar**\\n\\n**Insider Ownership**\\n\\nManagement owns &gt;50% of the shares so the float is tightly hold \\n\\n[https://www.vitalenergyoil.com/investor/stockqoute.html](https://www.vitalenergyoil.com/investor/stockqoute.html) \\n\\n**Oil Proved Reserves 31 December 2021 – they have more locations for drilling left**\\n\\n**\\\\*Please check on Sedar**\\n\\n**Valuation**\\n\\nIf you use the IWC (Microcap ETF) P/E ratio for the full year 2022 profit per share – expected based on production, oil price and cost structure - the stock is worth a lot more. That is for a company with a good balance sheet and a clear cashflow, not something you find in most microcaps as with this ETF. Therefore, using a P/E of 10-15 sounds very reasonable to me. This leaves out the potential growth of new oil wells. [https://stockanalysis.com/etf/iwc/](https://stockanalysis.com/etf/iwc/) \\n\\nConsidering the production only started to increase since August, and oil prices are now at $100 WTI, I see a completely different picture for FY 2022.\\n\\n**Oil Industry**\\n\\nI’m positive towards oil as the world still needs oil. From 2011-2019 the world energy consumption increased by 10% and oil consumption source increased at the same rate according to this source. [https://ourworldindata.org/grapher/global-energy-substitution?country=\\\\~OWID\\\\_WRL](https://ourworldindata.org/grapher/global-energy-substitution?country=~OWID_WRL)\\n\\n***\\\\*Disclaimer: This is my personal opinion, please do your own homework***',\n",
       " 'upvote_ratio': 0.25,\n",
       " 'id': 't3_udxph6',\n",
       " 'created_utc': 1651159883.0}"
      ]
     },
     "execution_count": 8,
     "metadata": {},
     "output_type": "execute_result"
    }
   ],
   "source": [
    "dataset = dataset.to_dict(orient='records')\n",
    "dataset[2]"
   ]
  },
  {
   "cell_type": "code",
   "execution_count": 10,
   "metadata": {},
   "outputs": [],
   "source": [
    "import json\n",
    "\n",
    "with open('dataset.json', 'w') as fp:\n",
    "    for line in dataset:\n",
    "        fp.write(json.dumps(line)+'\\n')"
   ]
  },
  {
   "cell_type": "markdown",
   "metadata": {},
   "source": [
    "Convert to tar.gz file"
   ]
  },
  {
   "cell_type": "code",
   "execution_count": 11,
   "metadata": {},
   "outputs": [],
   "source": [
    "import tarfile\n",
    "\n",
    "with tarfile.open('dataset.tar.gz', 'w:gz') as tar:\n",
    "    tar.add('dataset.json')"
   ]
  },
  {
   "cell_type": "markdown",
   "metadata": {},
   "source": [
    "We now have the compressed file that we can add to HF datasets."
   ]
  }
 ],
 "metadata": {
  "kernelspec": {
   "display_name": "Python 3.9.12 ('ml')",
   "language": "python",
   "name": "python3"
  },
  "language_info": {
   "codemirror_mode": {
    "name": "ipython",
    "version": 3
   },
   "file_extension": ".py",
   "mimetype": "text/x-python",
   "name": "python",
   "nbconvert_exporter": "python",
   "pygments_lexer": "ipython3",
   "version": "3.9.12"
  },
  "orig_nbformat": 4,
  "vscode": {
   "interpreter": {
    "hash": "b8e7999f96e1b425e2d542f21b571f5a4be3e97158b0b46ea1b2500df63956ce"
   }
  }
 },
 "nbformat": 4,
 "nbformat_minor": 2
}
