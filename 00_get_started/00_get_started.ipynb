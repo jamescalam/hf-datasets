{
 "cells": [
  {
   "cell_type": "code",
   "execution_count": null,
   "metadata": {},
   "outputs": [],
   "source": [
    "!pip install datasets"
   ]
  },
  {
   "cell_type": "code",
   "execution_count": 5,
   "metadata": {},
   "outputs": [
    {
     "name": "stderr",
     "output_type": "stream",
     "text": [
      "Using custom data configuration jamescalam--reddit-python-107f1094f98d4fba\n",
      "Reusing dataset json (/Users/jamesbriggs/.cache/huggingface/datasets/jamescalam___json/jamescalam--reddit-python-107f1094f98d4fba/0.0.0/ac0ca5f5289a6cf108e706efcf040422dbbfa8e658dee6a819f20d76bb84d26b)\n"
     ]
    },
    {
     "data": {
      "text/plain": [
       "Dataset({\n",
       "    features: ['sub', 'title', 'selftext', 'upvote_ratio', 'id', 'created_utc'],\n",
       "    num_rows: 933\n",
       "})"
      ]
     },
     "execution_count": 5,
     "metadata": {},
     "output_type": "execute_result"
    }
   ],
   "source": [
    "from datasets import load_dataset\n",
    "\n",
    "reddit = load_dataset('jamescalam/reddit-python', split='train')\n",
    "reddit"
   ]
  },
  {
   "cell_type": "code",
   "execution_count": 9,
   "metadata": {},
   "outputs": [
    {
     "data": {
      "text/plain": [
       "{'sub': 'Python',\n",
       " 'title': 'Flask -&gt; FastAPI',\n",
       " 'selftext': \"I'm happy with Flask and do not see the need to switch to FastAPI. Change my mind &amp; (ideally) point me to a nice tutorial that does just that in a demo project.\",\n",
       " 'upvote_ratio': 0.25,\n",
       " 'id': 't3_ubiv0a',\n",
       " 'created_utc': 1650885862.0}"
      ]
     },
     "execution_count": 9,
     "metadata": {},
     "output_type": "execute_result"
    }
   ],
   "source": [
    "reddit[0]"
   ]
  },
  {
   "cell_type": "code",
   "execution_count": 10,
   "metadata": {},
   "outputs": [
    {
     "data": {
      "text/plain": [
       "{'sub': 'Python',\n",
       " 'title': 'Ping Sweeper In Python',\n",
       " 'selftext': '',\n",
       " 'upvote_ratio': 0.84,\n",
       " 'id': 't3_ubhkg4',\n",
       " 'created_utc': 1650880947.0}"
      ]
     },
     "execution_count": 10,
     "metadata": {},
     "output_type": "execute_result"
    }
   ],
   "source": [
    "reddit[1]"
   ]
  },
  {
   "cell_type": "code",
   "execution_count": 11,
   "metadata": {},
   "outputs": [
    {
     "data": {
      "text/html": [
       "<div>\n",
       "<style scoped>\n",
       "    .dataframe tbody tr th:only-of-type {\n",
       "        vertical-align: middle;\n",
       "    }\n",
       "\n",
       "    .dataframe tbody tr th {\n",
       "        vertical-align: top;\n",
       "    }\n",
       "\n",
       "    .dataframe thead th {\n",
       "        text-align: right;\n",
       "    }\n",
       "</style>\n",
       "<table border=\"1\" class=\"dataframe\">\n",
       "  <thead>\n",
       "    <tr style=\"text-align: right;\">\n",
       "      <th></th>\n",
       "      <th>sub</th>\n",
       "      <th>title</th>\n",
       "      <th>selftext</th>\n",
       "      <th>upvote_ratio</th>\n",
       "      <th>id</th>\n",
       "      <th>created_utc</th>\n",
       "    </tr>\n",
       "  </thead>\n",
       "  <tbody>\n",
       "    <tr>\n",
       "      <th>0</th>\n",
       "      <td>Python</td>\n",
       "      <td>Flask -&amp;gt; FastAPI</td>\n",
       "      <td>I'm happy with Flask and do not see the need t...</td>\n",
       "      <td>0.25</td>\n",
       "      <td>t3_ubiv0a</td>\n",
       "      <td>1.650886e+09</td>\n",
       "    </tr>\n",
       "    <tr>\n",
       "      <th>1</th>\n",
       "      <td>Python</td>\n",
       "      <td>Ping Sweeper In Python</td>\n",
       "      <td></td>\n",
       "      <td>0.84</td>\n",
       "      <td>t3_ubhkg4</td>\n",
       "      <td>1.650881e+09</td>\n",
       "    </tr>\n",
       "    <tr>\n",
       "      <th>2</th>\n",
       "      <td>Python</td>\n",
       "      <td>Text Summarization with Huggingface Transforme...</td>\n",
       "      <td></td>\n",
       "      <td>0.81</td>\n",
       "      <td>t3_ubgv0x</td>\n",
       "      <td>1.650878e+09</td>\n",
       "    </tr>\n",
       "    <tr>\n",
       "      <th>3</th>\n",
       "      <td>Python</td>\n",
       "      <td>GitHub - helblazer811/ManimML: ManimML is a pr...</td>\n",
       "      <td></td>\n",
       "      <td>1.00</td>\n",
       "      <td>t3_ubfsl4</td>\n",
       "      <td>1.650873e+09</td>\n",
       "    </tr>\n",
       "    <tr>\n",
       "      <th>4</th>\n",
       "      <td>Python</td>\n",
       "      <td>How do you write iOS apps in Python?</td>\n",
       "      <td>?</td>\n",
       "      <td>0.44</td>\n",
       "      <td>t3_ubehfi</td>\n",
       "      <td>1.650868e+09</td>\n",
       "    </tr>\n",
       "  </tbody>\n",
       "</table>\n",
       "</div>"
      ],
      "text/plain": [
       "      sub                                              title  \\\n",
       "0  Python                                Flask -&gt; FastAPI   \n",
       "1  Python                             Ping Sweeper In Python   \n",
       "2  Python  Text Summarization with Huggingface Transforme...   \n",
       "3  Python  GitHub - helblazer811/ManimML: ManimML is a pr...   \n",
       "4  Python               How do you write iOS apps in Python?   \n",
       "\n",
       "                                            selftext  upvote_ratio         id  \\\n",
       "0  I'm happy with Flask and do not see the need t...          0.25  t3_ubiv0a   \n",
       "1                                                             0.84  t3_ubhkg4   \n",
       "2                                                             0.81  t3_ubgv0x   \n",
       "3                                                             1.00  t3_ubfsl4   \n",
       "4                                                  ?          0.44  t3_ubehfi   \n",
       "\n",
       "    created_utc  \n",
       "0  1.650886e+09  \n",
       "1  1.650881e+09  \n",
       "2  1.650878e+09  \n",
       "3  1.650873e+09  \n",
       "4  1.650868e+09  "
      ]
     },
     "execution_count": 11,
     "metadata": {},
     "output_type": "execute_result"
    }
   ],
   "source": [
    "reddit = reddit.to_pandas()\n",
    "reddit.head()"
   ]
  },
  {
   "cell_type": "code",
   "execution_count": 12,
   "metadata": {},
   "outputs": [],
   "source": [
    "reddit = reddit.to_dict(orient=\"records\")"
   ]
  },
  {
   "cell_type": "code",
   "execution_count": 13,
   "metadata": {},
   "outputs": [
    {
     "data": {
      "text/plain": [
       "[{'sub': 'Python',\n",
       "  'title': 'Flask -&gt; FastAPI',\n",
       "  'selftext': \"I'm happy with Flask and do not see the need to switch to FastAPI. Change my mind &amp; (ideally) point me to a nice tutorial that does just that in a demo project.\",\n",
       "  'upvote_ratio': 0.25,\n",
       "  'id': 't3_ubiv0a',\n",
       "  'created_utc': 1650885862.0},\n",
       " {'sub': 'Python',\n",
       "  'title': 'Ping Sweeper In Python',\n",
       "  'selftext': '',\n",
       "  'upvote_ratio': 0.84,\n",
       "  'id': 't3_ubhkg4',\n",
       "  'created_utc': 1650880947.0},\n",
       " {'sub': 'Python',\n",
       "  'title': 'Text Summarization with Huggingface Transformers and Python',\n",
       "  'selftext': '',\n",
       "  'upvote_ratio': 0.81,\n",
       "  'id': 't3_ubgv0x',\n",
       "  'created_utc': 1650877984.0}]"
      ]
     },
     "execution_count": 13,
     "metadata": {},
     "output_type": "execute_result"
    }
   ],
   "source": [
    "reddit[:3]"
   ]
  },
  {
   "cell_type": "code",
   "execution_count": 14,
   "metadata": {},
   "outputs": [],
   "source": [
    "import json\n",
    "\n",
    "with open(\"train.jsonl\", \"w\") as f:\n",
    "    for line in reddit:\n",
    "        f.write(json.dumps(line) + \"\\n\")"
   ]
  },
  {
   "cell_type": "markdown",
   "metadata": {},
   "source": [
    "Upload..."
   ]
  },
  {
   "cell_type": "code",
   "execution_count": 15,
   "metadata": {},
   "outputs": [
    {
     "name": "stderr",
     "output_type": "stream",
     "text": [
      "Using custom data configuration jamescalam--reddit-demo-f671cc130b6f1ab4\n"
     ]
    },
    {
     "name": "stdout",
     "output_type": "stream",
     "text": [
      "Downloading and preparing dataset json/jamescalam--reddit-demo to /Users/jamesbriggs/.cache/huggingface/datasets/jamescalam___json/jamescalam--reddit-demo-f671cc130b6f1ab4/0.0.0/ac0ca5f5289a6cf108e706efcf040422dbbfa8e658dee6a819f20d76bb84d26b...\n"
     ]
    },
    {
     "data": {
      "application/vnd.jupyter.widget-view+json": {
       "model_id": "f84d9ca9880c474a98a41bef41e205a2",
       "version_major": 2,
       "version_minor": 0
      },
      "text/plain": [
       "Downloading data files:   0%|          | 0/1 [00:00<?, ?it/s]"
      ]
     },
     "metadata": {},
     "output_type": "display_data"
    },
    {
     "data": {
      "application/vnd.jupyter.widget-view+json": {
       "model_id": "929f72f5de5741b0b8f0e2c4277f22ec",
       "version_major": 2,
       "version_minor": 0
      },
      "text/plain": [
       "Downloading data:   0%|          | 0.00/677k [00:00<?, ?B/s]"
      ]
     },
     "metadata": {},
     "output_type": "display_data"
    },
    {
     "data": {
      "application/vnd.jupyter.widget-view+json": {
       "model_id": "d498a543f73c4e89834c5ec4f745ed2b",
       "version_major": 2,
       "version_minor": 0
      },
      "text/plain": [
       "Extracting data files:   0%|          | 0/1 [00:00<?, ?it/s]"
      ]
     },
     "metadata": {},
     "output_type": "display_data"
    },
    {
     "name": "stdout",
     "output_type": "stream",
     "text": [
      "Dataset json downloaded and prepared to /Users/jamesbriggs/.cache/huggingface/datasets/jamescalam___json/jamescalam--reddit-demo-f671cc130b6f1ab4/0.0.0/ac0ca5f5289a6cf108e706efcf040422dbbfa8e658dee6a819f20d76bb84d26b. Subsequent calls will reuse this data.\n"
     ]
    },
    {
     "data": {
      "text/plain": [
       "Dataset({\n",
       "    features: ['sub', 'title', 'selftext', 'upvote_ratio', 'id', 'created_utc'],\n",
       "    num_rows: 933\n",
       "})"
      ]
     },
     "execution_count": 15,
     "metadata": {},
     "output_type": "execute_result"
    }
   ],
   "source": [
    "reddit = load_dataset('jamescalam/reddit-demo', split='train')\n",
    "reddit"
   ]
  },
  {
   "cell_type": "code",
   "execution_count": 16,
   "metadata": {},
   "outputs": [
    {
     "data": {
      "text/plain": [
       "{'sub': 'Python',\n",
       " 'title': 'Flask -&gt; FastAPI',\n",
       " 'selftext': \"I'm happy with Flask and do not see the need to switch to FastAPI. Change my mind &amp; (ideally) point me to a nice tutorial that does just that in a demo project.\",\n",
       " 'upvote_ratio': 0.25,\n",
       " 'id': 't3_ubiv0a',\n",
       " 'created_utc': 1650885862.0}"
      ]
     },
     "execution_count": 16,
     "metadata": {},
     "output_type": "execute_result"
    }
   ],
   "source": [
    "reddit[0]"
   ]
  },
  {
   "cell_type": "code",
   "execution_count": null,
   "metadata": {},
   "outputs": [],
   "source": []
  }
 ],
 "metadata": {
  "kernelspec": {
   "display_name": "Python 3.9.12 ('ml')",
   "language": "python",
   "name": "python3"
  },
  "language_info": {
   "codemirror_mode": {
    "name": "ipython",
    "version": 3
   },
   "file_extension": ".py",
   "mimetype": "text/x-python",
   "name": "python",
   "nbconvert_exporter": "python",
   "pygments_lexer": "ipython3",
   "version": "3.9.12"
  },
  "orig_nbformat": 4,
  "vscode": {
   "interpreter": {
    "hash": "b8e7999f96e1b425e2d542f21b571f5a4be3e97158b0b46ea1b2500df63956ce"
   }
  }
 },
 "nbformat": 4,
 "nbformat_minor": 2
}
